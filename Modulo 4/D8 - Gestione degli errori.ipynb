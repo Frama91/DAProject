{
 "cells": [
  {
   "cell_type": "code",
   "execution_count": null,
   "metadata": {},
   "outputs": [],
   "source": [
    "from plotly import express as px\n",
    "import matplotlib.pyplot as plt\n",
    "import seaborn as sns\n",
    "# 1. Da plotply importiamo il dataset stokcs\n",
    "stocks = px.data.stocks()\n",
    "titanic = sns.load_dataset('titanic')"
   ]
  },
  {
   "cell_type": "code",
   "execution_count": null,
   "metadata": {},
   "outputs": [],
   "source": [
    "\n",
    "# Estraiamo i dati della colonna \"GOOG\" relative all'andamento delle azioni Google e visualizziamole mediante pyplot\n",
    "x_ = stocks[\"GOOG\"]\n",
    "plt.plot(x_)\n",
    "plt.show()\n",
    "# Estraiamo le prime 5 righe della colonna \"GOOG\" e della colonna \"date\" e usiamoli come ascisse ed ordinate su un grafico mediante pyplot\n",
    "y_ = stocks[\"GOOG\"].head()\n",
    "x_ = stocks[\"date\"].head()\n",
    "plt.plot(x_,y_)\n",
    "plt.show()\n",
    "# Facciamo lo stesso per le ultime 5 righe del dataset\n",
    "y_ = stocks[\"GOOG\"].tail()\n",
    "x_ = stocks[\"date\"].tail()\n",
    "plt.plot(x_,y_)\n",
    "plt.show()\n"
   ]
  },
  {
   "cell_type": "code",
   "execution_count": null,
   "metadata": {},
   "outputs": [],
   "source": [
    "# Estraiamo le prime 20 istanze della colonna \"AAPL\" delle azioni di Apple e visualizziamo il grafico tramite pyplot in modo che:\n",
    "# - Il grafico sia rosso, - La linea sia tratteggiata, - Vi sia un pallino come maker, - L'asse delle ascisse si chiami \"Data\", - L'asse delle ordinate si chiami \"Valore\"\n",
    "# - Il titolo del grafico si chaimi \"Azioni Apple\", - Il markefacolor sia nero, - La linea abbia spessore uguale a 2\n",
    "dati_appl = stocks[\"AAPL\"].head(20)\n",
    "dati_appl.plot(x = \"open\",y = \"close\",color=\"r\",ls=\"--\",marker=\"o\",figsize=(10,9),markerfacecolor=\"k\",linewidth = 2)\n",
    "plt.title(\"Azioni Apple\")\n",
    "plt.xlabel(\"Data\")\n",
    "plt.ylabel(\"Valore\")\n",
    "plt.show()"
   ]
  },
  {
   "cell_type": "code",
   "execution_count": null,
   "metadata": {},
   "outputs": [],
   "source": [
    "# Utilizzando i metodi di rappresentazione grafica deio DATAFRAME, visualizziamo l'andamento di tutte le azioni sullo stesso grafico.\n",
    "# Tramite pyplot spostiamo la legenda in basso a destra\n",
    "stocks.plot(subplots= False,figsize=(10,9))\n",
    "plt.legend(loc = 'lower right')\n",
    "plt.show()"
   ]
  },
  {
   "cell_type": "code",
   "execution_count": null,
   "metadata": {},
   "outputs": [],
   "source": [
    "# Da pyplot.express importiamo il dataset elections.\n",
    "election = px.data.election()\n",
    "election.head()"
   ]
  },
  {
   "cell_type": "code",
   "execution_count": null,
   "metadata": {},
   "outputs": [],
   "source": [
    "# -Disegnamo un grafico a barre dove confrontiamo  i voti totali presi dai tre candidati\n",
    "cnf_tot = election.loc[:,[\"Coderre\",\"Bergeron\",\"Joly\"]]\n",
    "cnf_tot.sum().plot(kind=\"bar\",figsize=(10,9))\n",
    "plt.show()\n"
   ]
  },
  {
   "cell_type": "code",
   "execution_count": null,
   "metadata": {},
   "outputs": [],
   "source": [
    "#-Visualizzare un grafico a barre comparativo dove si confrontano i voti presi nei primi 4 distretti\n",
    "#-Salvare entrambi i grafici su disco in alta risoluzione\n",
    "disctr = election.loc[0:3,[\"district\",\"Coderre\",\"Bergeron\",\"Joly\"]]\n",
    "disctr = disctr.set_index(\"district\")\n",
    "disctr.plot(kind=\"bar\",stacked=True)\n",
    "plt.savefig(\"output1.jpeg\")\n",
    "plt.show()"
   ]
  },
  {
   "cell_type": "code",
   "execution_count": null,
   "metadata": {},
   "outputs": [],
   "source": [
    "#-Visualizzarlo sia in formato appaiato che impilato(stacked)\n",
    "#-Salvare entrambi i grafici su disco in alta risoluzione\n",
    "disctr = election.loc[0:3,[\"district\",\"Coderre\",\"Bergeron\",\"Joly\"]]\n",
    "disctr = disctr.set_index(\"district\")\n",
    "disctr.plot(kind=\"bar\",stacked=False)\n",
    "plt.savefig(\"output2.jpeg\")\n",
    "plt.show()"
   ]
  },
  {
   "cell_type": "code",
   "execution_count": null,
   "metadata": {},
   "outputs": [],
   "source": [
    "titanic.head(20)"
   ]
  },
  {
   "cell_type": "code",
   "execution_count": null,
   "metadata": {},
   "outputs": [],
   "source": [
    "# Da seaborn importiamo il dataset Titanic.\n",
    "#Quanti posti c'erano sulla nave?\n",
    "print(\"Il totale dei ponti è: \",titanic[\"deck\"].unique().value_counts().sum())"
   ]
  },
  {
   "cell_type": "code",
   "execution_count": null,
   "metadata": {},
   "outputs": [],
   "source": [
    "# Ci sono dati mancanti? Dove?Quanti? Come potremmo gestirli?\n",
    "titanic.isna().sum()\n",
    "#Li possimao riempiere con le funzioni apposite come .fillna(). Bisogna però scegliere con cosa: uno studio sui possibili valori sarebbe opportuno trattandosi di età e ponte."
   ]
  },
  {
   "cell_type": "code",
   "execution_count": null,
   "metadata": {},
   "outputs": [],
   "source": [
    "# Tramite seaborn visualizziamo un joinplot sulle colonne fare & age. Che cosa stiamo guardando.\n",
    "sns.jointplot(y=titanic.fare,x=titanic.age)\n",
    "#Stiamo osservando la distribuzione del costo del biglietto in base all'età"
   ]
  },
  {
   "cell_type": "code",
   "execution_count": null,
   "metadata": {},
   "outputs": [],
   "source": [
    "titanic[\"class\"]"
   ]
  },
  {
   "cell_type": "code",
   "execution_count": null,
   "metadata": {},
   "outputs": [],
   "source": [
    "# Visualizzare un grafico con la differenza tra il numero di passeggeri di ogni classe di imbarco\n",
    "var = titanic[\"class\"].value_counts()\n",
    "var = var.sort_values()\n",
    "var.plot( kind=\"bar\")\n"
   ]
  },
  {
   "cell_type": "code",
   "execution_count": null,
   "metadata": {},
   "outputs": [],
   "source": [
    "# Fare la stessa cosa per la colonna \"alive\"\n",
    "var = titanic[\"alive\"].value_counts()\n",
    "var = var.sort_values()\n",
    "var.plot(kind=\"bar\",color=\"y\")\n"
   ]
  },
  {
   "cell_type": "code",
   "execution_count": null,
   "metadata": {},
   "outputs": [],
   "source": [
    "# Riusciamo a vedere la distribuzione delle età dei passeggeri rispetto alla classe di imbarco? Proviamo con un boxplot e con uno swarmplot\n",
    "eta_ = titanic[\"age\"]\n",
    "class_ = titanic[\"class\"]\n",
    "sns.boxplot(x=eta_,y=class_)"
   ]
  },
  {
   "cell_type": "code",
   "execution_count": null,
   "metadata": {},
   "outputs": [],
   "source": [
    "# Swarmplot\n",
    "eta_ = titanic[\"age\"]\n",
    "class_ = titanic[\"class\"]\n",
    "sns.swarmplot(x=eta_,y=class_)"
   ]
  },
  {
   "cell_type": "code",
   "execution_count": null,
   "metadata": {},
   "outputs": [],
   "source": [
    "# Visualizziamo un kdeplot per la colonna age\n",
    "eta_ = titanic[\"age\"]\n",
    "sns.kdeplot(eta_)"
   ]
  },
  {
   "cell_type": "code",
   "execution_count": null,
   "metadata": {},
   "outputs": [],
   "source": [
    "# Visualizziamo un boxplot ed un lmplot rispetto alle colonne fare e survived. Che cosa ne deduciamo?\n",
    "fare_ = titanic[\"fare\"]\n",
    "surv_ = titanic[\"survived\"]\n",
    "print(sns.boxplot(y=fare_,x=surv_))\n"
   ]
  },
  {
   "cell_type": "code",
   "execution_count": null,
   "metadata": {},
   "outputs": [],
   "source": [
    "# lmplot\n",
    "data_lm = titanic.loc[:,[\"fare\",\"survived\"]]\n",
    "print(sns.lmplot(titanic, x=\"fare\",y=\"survived\"))\n",
    "#Se ne deduce che la maggior parte di chi è sopravvissuto ha pagato un prezzo maggiorato."
   ]
  },
  {
   "cell_type": "code",
   "execution_count": null,
   "metadata": {},
   "outputs": [],
   "source": [
    "titanic.head()"
   ]
  },
  {
   "cell_type": "code",
   "execution_count": null,
   "metadata": {},
   "outputs": [],
   "source": [
    "# Realizziamo un grafico 'scatter' interattivo tramite plotly.express dove avremo\n",
    "fig = px.scatter(titanic,x=titanic[\"age\"],\n",
    "                 y=titanic[\"deck\"],\n",
    "                 color=\"survived\",\n",
    "                 size = \"fare\",\n",
    "                 symbol = \"sex\",\n",
    "                 category_orders =  {\"deck\":list(\"ABCDEFG\")},\n",
    "                 width=1200,\n",
    "                 height=1200,\n",
    "                 color_continuous_scale=[[0, 'red'], [1, 'green']]\n",
    "                 )\n",
    "fig"
   ]
  }
 ],
 "metadata": {
  "kernelspec": {
   "display_name": ".venv",
   "language": "python",
   "name": "python3"
  },
  "language_info": {
   "codemirror_mode": {
    "name": "ipython",
    "version": 3
   },
   "file_extension": ".py",
   "mimetype": "text/x-python",
   "name": "python",
   "nbconvert_exporter": "python",
   "pygments_lexer": "ipython3",
   "version": "3.11.5"
  },
  "orig_nbformat": 4
 },
 "nbformat": 4,
 "nbformat_minor": 2
}
