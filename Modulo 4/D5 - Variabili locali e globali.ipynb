{
 "cells": [
  {
   "cell_type": "code",
   "execution_count": null,
   "metadata": {},
   "outputs": [],
   "source": [
    "# 1. Abbiamo una lista di numeri. Creare una nuova lista i cui elementi sono gli stessi numeri incrementati di 10, mediante comprehesion\n",
    "numeri = [4,10,50,100,128,71,46]\n",
    "numeri_1=[n+10 for n in numeri]\n",
    "print(\"La lista originale: \" + (\"\".join(str(numeri))) + \"\\nLa lista con incremento: \" + str(\"\".join(str(numeri_1))))"
   ]
  },
  {
   "cell_type": "code",
   "execution_count": null,
   "metadata": {},
   "outputs": [],
   "source": [
    "# 1. Abbiamo una lista di numeri. Creare una nuova lista i cui elementi sono gli stessi ma raddoppiati, mediante comprehesion\n",
    "numeri = [4,10,50,100,128,71,46]\n",
    "numeri_1 =[n*2 for n in numeri]\n",
    "print(\"La lista originale: \" + (\"\".join(str(numeri))) + \"\\nLa lista raddoppiata: \" + str(\"\".join(str(numeri_1))))"
   ]
  },
  {
   "cell_type": "code",
   "execution_count": null,
   "metadata": {},
   "outputs": [],
   "source": [
    "# 3. Abbiamo una lista di nomi. Creare una nuova lista i cui elemnti siano le iniziali dei nomi, mediante comprehesion\n",
    "nomi = [\"Alex\",\"Bob\",\"Cindy\",\"Dan\",\"Emma\",\"Faith\",\"Grace\",\"Henry\"]\n",
    "nomi_1 = [n[0] for n in nomi]\n",
    "print(\"La lista originale: \" + (\", \".join(nomi)) + \"\\nLa lista elaborata: \" + str(\", \".join(nomi_1)))"
   ]
  },
  {
   "cell_type": "code",
   "execution_count": null,
   "metadata": {},
   "outputs": [],
   "source": [
    "# 4. Abbiamo una lista di nomi. Creare una nuova lista i cui elemnti siano le iniziali dei nomi seguite da punto, mediante comprehesion\n",
    "nomi = [\"Alex\",\"Bob\",\"Cindy\",\"Dan\",\"Emma\",\"Faith\",\"Grace\",\"Henry\"]\n",
    "nomi_1 = [(n[0] + \".\")  for n in nomi]\n",
    "print(\"La lista originale: \" + (\", \".join(nomi)) + \"\\nLa lista elaborata: \" + str(\" - \".join(nomi_1)))"
   ]
  },
  {
   "cell_type": "code",
   "execution_count": null,
   "metadata": {},
   "outputs": [],
   "source": [
    "# 5. Abbiamo una lista di codici fiscali. Creare una lista che contenga,  per ogni cf, solo i caratteri relativi al nome mediante comprehension\n",
    "lista_cf = [\"ABCDEF95G01A123B\", \"GHIJKL91MO2A321C\",\"MNOPOR89S03A456D\", \"STUVWX95Z04A654E\", \"XYZABCO1D05A789F\",\"DEFGHI95J06A987G\"]\n",
    "lista_nomi = [l[3:6] for l in lista_cf]\n",
    "print(\"La lista originale: \" + (\", \".join(lista_cf)) + \"\\nLa lista elaborata: \" + str(\" - \".join(lista_nomi)))"
   ]
  },
  {
   "cell_type": "code",
   "execution_count": null,
   "metadata": {},
   "outputs": [],
   "source": [
    "# 6. Abbiamo una lista di codici fiscali. Creare una lista che contenga,  per ogni cf, solo i caratteri relativi al nome ed una lista per i caratterie del cognome,mediante comprehension\n",
    "lista_cf = [\"ABCDEF95G01A123B\", \"GHIJKL91MO2A321C\",\"MNOPOR89S03A456D\", \"STUVWX95Z04A654E\", \"XYZABCO1D05A789F\",\"DEFGHI95J06A987G\"]\n",
    "lista_nomi = [l[3:6] for l in lista_cf]\n",
    "lista_cogn = [l[0:3] for l in lista_cf]\n",
    "print(\"La lista originale: \" + (\", \".join(lista_cf)) + \"\\nLa lista dei nomi: \" + str(\" - \".join(lista_nomi)) + \"\\nLa lista dei cognomi: \" + str(\" - \".join(lista_cogn)))"
   ]
  },
  {
   "cell_type": "code",
   "execution_count": null,
   "metadata": {},
   "outputs": [],
   "source": []
  }
 ],
 "metadata": {
  "kernelspec": {
   "display_name": "Python 3",
   "language": "python",
   "name": "python3"
  },
  "language_info": {
   "codemirror_mode": {
    "name": "ipython",
    "version": 3
   },
   "file_extension": ".py",
   "mimetype": "text/x-python",
   "name": "python",
   "nbconvert_exporter": "python",
   "pygments_lexer": "ipython3",
   "version": "3.11.5"
  },
  "orig_nbformat": 4
 },
 "nbformat": 4,
 "nbformat_minor": 2
}
