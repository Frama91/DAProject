{
 "cells": [
  {
   "cell_type": "code",
   "execution_count": null,
   "metadata": {},
   "outputs": [],
   "source": [
    "# 1. Abbiamo una lista di liste. Che tipo di struttura dati o matematica potrebbe rappresentare? Notate che tutte le liste \"interne\" sono della stessa dimensione.\n",
    "#Come facciamo per accedere ad un elemento in particolare?\n",
    "mat = [[0,1,2,3,4],[5,6,7,8,9],[10,11,12,13,14]]\n",
    "#La variabile mat rappresenta una matrice o un dataset\n",
    "\n",
    "#Per richiamare un elmento bisogna utilizzare il nome della variabile seguito da due coppie di parentesi quadre dentro alla quale si indica la lista in cui è contenuto l'elemento e la posizione dello stesso all'interno della lista.\n",
    "#Esempio di richiamo del valore \"11\", contenuto nella lista alla posizione \"1\" nella lista alla posizione \"2\"\n",
    "mat[2][1]"
   ]
  },
  {
   "cell_type": "code",
   "execution_count": null,
   "metadata": {},
   "outputs": [],
   "source": [
    "# 2. Trasformiamo la lista dell'esercizio precendente ini un array NUmPy.\n",
    "import numpy as np\n",
    "mat = [[0,1,2,3,4],[5,6,7,8,9],[10,11,12,13,14]]\n",
    "mat_ny = np.array(mat)\n",
    "# Come facciamo per accedere ai singoli elementi?\n",
    "# Si può accedere utilizzando il metodo precedente\n",
    "mat_ny[2][1]\n"
   ]
  },
  {
   "cell_type": "code",
   "execution_count": 9,
   "metadata": {},
   "outputs": [
    {
     "name": "stdout",
     "output_type": "stream",
     "text": [
      "(3, 3, 3)\n",
      "[[[ 0  1  2]\n",
      "  [ 3  4  5]\n",
      "  [ 6  7  8]]\n",
      "\n",
      " [[ 9 10 11]\n",
      "  [12 13 14]\n",
      "  [15 16 17]]\n",
      "\n",
      " [[18 19 20]\n",
      "  [21 22 23]\n",
      "  [24 25 26]]]\n"
     ]
    },
    {
     "data": {
      "text/plain": [
       "11"
      ]
     },
     "execution_count": 9,
     "metadata": {},
     "output_type": "execute_result"
    }
   ],
   "source": [
    "# 3. Abbiamo il seguente array NumPy.\n",
    "import numpy as np\n",
    "linear_data = np.array([x for x in range(27)])\n",
    "# Lo ridimensioniamo tramite il metodo .reshape().\n",
    "reshaped_data = linear_data.reshape(3,3,3)\n",
    "#Quante dimensioni ha il nuovo array?\n",
    "print(reshaped_data.shape)\n",
    "#Come facciamo per accedere ai singoli elementi?\n",
    "print(reshaped_data)\n",
    "#Nome variabile e parentesi quadre a seguire per indicare le posizioni dell'elemento che si vuole richiamare\n",
    "reshaped_data[1][0][2]"
   ]
  },
  {
   "cell_type": "code",
   "execution_count": null,
   "metadata": {},
   "outputs": [],
   "source": [
    "# 4. Abbiamo un territorio diviso in quattro quadranti; in ognuno di essi c'è uno store.\n",
    "# Vogliamom contare quanti clienti vengono serviti dai diversi store: creiamo una struttura dati adeguata con un array NUmPy, dove il conteggio di ogni store parta da zero.\n",
    "import numpy as np\n",
    "import random\n",
    "quadranti = np.array([\"UL\",\"UR\",\"LL\",\"RR\"])\n",
    "clienti = np.array([0,0,0,0])\n",
    "for x in range(100):\n",
    "    pos = random.randint(0,3)\n",
    "    clienti[pos] += 1\n",
    "for el in range(len(clienti)):\n",
    "    print(str(quadranti[el]) + \" : \" +str(clienti[el]))\n",
    "#Alla fine, che valore ha lo store UR? E lo store LL?\n",
    "print(\"\\nLo store \" + str(quadranti[1]) + \" ha \" + str(clienti[1]) + \" clienti e lo store \" + str(quadranti[2]) + \" ha \" + str(clienti[2])+ \" clienti.\")\n",
    "\n",
    "#Quale store ja più di 25 clienti? Quanti clienti hanno avuto di preciso questi store?\n",
    "print(\"Store con più di 25 clienti:\")\n",
    "for el in range(len(quadranti)): \n",
    "    if clienti[el] > 25 : print(str(quadranti[el]) +  \" ha \" + str(clienti[el]) + \" clienti.\")\n",
    "    "
   ]
  },
  {
   "cell_type": "code",
   "execution_count": null,
   "metadata": {},
   "outputs": [],
   "source": [
    "# 4. 3/3 Ripetiamo la traccia precedente ma stavolta abbiamo nove quadranti e 200 iterazioni.\n",
    "import numpy as np\n",
    "import random\n",
    "quadranti = np.array([\"UL\",\"UC\",\"UR\",\"ML\",\"MC\",\"MR\",\"LL\",\"LC\",\"LR\"])\n",
    "clienti = np.array([0,0,0,0,0,0,0,0,0])\n",
    "for x in range(200):\n",
    "    pos = random.randint(0,8)\n",
    "    clienti[pos] += 1\n",
    "print(\"\\nPer questo anno la situazione è la seguente:\")\n",
    "for el in range(len(clienti)):\n",
    "    print(str(quadranti[el]) + \" : \" +str(clienti[el]))\n",
    "# L'anno prossimo ci aspettiamo 4 volte i valori appena ottenuti; simuliamo velocemente il tutto e stampiamo il risultato\n",
    "for el in range(len(clienti)):\n",
    "    clienti[el] *=4\n",
    "print(\"\\nPer il prossimo anno la situazione attesa è la seguente:\")\n",
    "for el in range(len(clienti)):\n",
    "    print(str(quadranti[el]) + \" : \" +str(clienti[el]))"
   ]
  },
  {
   "cell_type": "code",
   "execution_count": null,
   "metadata": {},
   "outputs": [],
   "source": [
    "# 5. Chiediamo all'utente di inserire un numero, dividiamolo per 5 e poi stampiamo a il risultato a video. Gestiamo correttamente le eccezioni nel caso in cui l'utente immetta un input errato.\n",
    "while True:                                                                                                                 \n",
    "    print(\"Inserisci il numero da dividere per 5:\")\n",
    "    try:    \n",
    "        num = int(input())\n",
    "    except:print(\"Hai inserito un valore non valido: riprova.\")\n",
    "    else :\n",
    "        print(num/5)\n",
    "        break"
   ]
  },
  {
   "cell_type": "code",
   "execution_count": null,
   "metadata": {},
   "outputs": [],
   "source": [
    "# 6. In una catena di montaggio abbiamo una struttura metallica di 28.75 cm di lunghezza: per assicurarne la stabilità. è necessario inserire 15 rivetti dei quali uno all'inizio ed uno alla fine e tutti quanti separati dalla\n",
    "# stessa distanza. Come possiamo calcolare i punti esatti in cui inserire i rivetti tramite NumPy?\n",
    "lung_strutt = 28.75\n",
    "num_rivetti = 15\n",
    "dist = lung_strutt/(num_rivetti-2)\n",
    "print(\"I rivetti vanno posizionati ogni: \" + str(round(dist,2)) + \" cm.\")"
   ]
  },
  {
   "cell_type": "code",
   "execution_count": null,
   "metadata": {},
   "outputs": [],
   "source": [
    "# 7. Scarichiamo l'Iris Dataset.\n",
    "# Leggiamo il file e carichiamo in un Dataframe mediante pd.read_csv() senza utilizzare altri parametri\n",
    "import pandas as pd\n",
    "data_set = pd.read_csv(\"iris.data\")\n",
    "# Stampiamo le prime 5 righe\n",
    "print(data_set.head())"
   ]
  },
  {
   "cell_type": "code",
   "execution_count": null,
   "metadata": {},
   "outputs": [],
   "source": [
    "# Stampiamo i nomi delle colonne: sono corretti?\n",
    "data_set.columns #Ovviamente no"
   ]
  },
  {
   "cell_type": "code",
   "execution_count": null,
   "metadata": {},
   "outputs": [],
   "source": [
    "# Leggiamo  il file e carichiamo in una DataFrame aggiungendo i nomi di colonna come parametro\n",
    "data_set = pd.read_csv(\"iris.data\",header=None,names=['sepal length in cm','sepal width in cm','petal length in cm','petal width in cm','class'])\n",
    "#Stampiamo le prime cinque righe\n",
    "data_set.head()"
   ]
  },
  {
   "cell_type": "code",
   "execution_count": null,
   "metadata": {},
   "outputs": [],
   "source": [
    "# E le ultime 10\n",
    "data_set.tail(10)"
   ]
  },
  {
   "cell_type": "code",
   "execution_count": null,
   "metadata": {},
   "outputs": [],
   "source": [
    "# Stampiamo un riepilogo dei descrittori statistici del dataset\n",
    "data_set.describe()"
   ]
  },
  {
   "cell_type": "code",
   "execution_count": null,
   "metadata": {},
   "outputs": [],
   "source": [
    "# 8. Tra i vari dataset, ce n'è uno che contiene diverse qualità di vini e le misure di dioverse proprietà organolettiche, wine.csv; Leggiamo quindi il dataset e visualizziamo le prime e le ultime righe\n",
    "import pandas as pd\n",
    "wine = pd.read_csv(\"beginner_datasets/wine.csv\")\n",
    "wine"
   ]
  },
  {
   "cell_type": "code",
   "execution_count": null,
   "metadata": {},
   "outputs": [],
   "source": [
    "# Leggiamo nuovamente il dataset ma stavolta considerando solo le ultime 6 colonne ricordandoci che in totale il dataset ha 13 colonne\n",
    "wine=pd.read_csv(\"beginner_datasets/wine.csv\",usecols=[x for x in range(7,13,1)])\n",
    "wine"
   ]
  },
  {
   "cell_type": "code",
   "execution_count": null,
   "metadata": {},
   "outputs": [],
   "source": [
    "# Visualizziamo un recoconto dei descrittori statistici di questa versione\n",
    "wine.describe()"
   ]
  },
  {
   "cell_type": "code",
   "execution_count": 6,
   "metadata": {},
   "outputs": [
    {
     "data": {
      "text/plain": [
       "array([[ 1,  1,  1,  1,  5,  1,  1,  1, 20, -4,  0, 42]])"
      ]
     },
     "execution_count": 6,
     "metadata": {},
     "output_type": "execute_result"
    }
   ],
   "source": [
    "# 10. Abbiamo la seguente matrice. Creiamo un ndarray con gli stessi valori\n",
    "import numpy as np\n",
    "arr_matrix = np.matrix([(1,1,1,1),(5,1,1,1),(20,-4,0,42)])\n",
    "arr_ = np.array([el for el in arr_matrix])\n",
    "arr_ = np.ndarray.reshape(arr_,(1,12))\n",
    "arr_\n"
   ]
  }
 ],
 "metadata": {
  "kernelspec": {
   "display_name": "Python 3",
   "language": "python",
   "name": "python3"
  },
  "language_info": {
   "codemirror_mode": {
    "name": "ipython",
    "version": 3
   },
   "file_extension": ".py",
   "mimetype": "text/x-python",
   "name": "python",
   "nbconvert_exporter": "python",
   "pygments_lexer": "ipython3",
   "version": "3.11.4"
  },
  "orig_nbformat": 4
 },
 "nbformat": 4,
 "nbformat_minor": 2
}
