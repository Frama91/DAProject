{
 "cells": [
  {
   "cell_type": "code",
   "execution_count": 285,
   "metadata": {},
   "outputs": [
    {
     "name": "stdout",
     "output_type": "stream",
     "text": [
      "La lista originale: [4, 10, 50, 100, 128, 71, 46]\n",
      "La lista con incremento: [14, 20, 60, 110, 138, 81, 56]\n"
     ]
    }
   ],
   "source": [
    "# 1. Abbiamo una lista di numeri. Creare una nuova lista i cui elementi sono gli stessi numeri incrementati di 10, mediante comprehesion\n",
    "numeri = [4,10,50,100,128,71,46]\n",
    "numeri_1=[n+10 for n in numeri]\n",
    "print(\"La lista originale: \" + (\"\".join(str(numeri))) + \"\\nLa lista con incremento: \" + str(\"\".join(str(numeri_1))))"
   ]
  },
  {
   "cell_type": "code",
   "execution_count": null,
   "metadata": {},
   "outputs": [],
   "source": [
    "# 1. Abbiamo una lista di numeri. Creare una nuova lista i cui elementi sono gli stessi ma raddoppiati, mediante comprehesion\n",
    "numeri = [4,10,50,100,128,71,46]\n",
    "numeri_1 =[n*2 for n in numeri]\n",
    "print(\"La lista originale: \" + (\"\".join(str(numeri))) + \"\\nLa lista raddoppiata: \" + str(\"\".join(str(numeri_1))))"
   ]
  },
  {
   "cell_type": "code",
   "execution_count": null,
   "metadata": {},
   "outputs": [],
   "source": [
    "# 3. Abbiamo una lista di nomi. Creare una nuova lista i cui elemnti siano le iniziali dei nomi, mediante comprehesion\n",
    "nomi = [\"Alex\",\"Bob\",\"Cindy\",\"Dan\",\"Emma\",\"Faith\",\"Grace\",\"Henry\"]\n",
    "nomi_1 = [n[0] for n in nomi]\n",
    "print(\"La lista originale: \" + (\", \".join(nomi)) + \"\\nLa lista elaborata: \" + str(\", \".join(nomi_1)))"
   ]
  },
  {
   "cell_type": "code",
   "execution_count": null,
   "metadata": {},
   "outputs": [],
   "source": [
    "# 4. Abbiamo una lista di nomi. Creare una nuova lista i cui elemnti siano le iniziali dei nomi seguite da punto, mediante comprehesion\n",
    "nomi = [\"Alex\",\"Bob\",\"Cindy\",\"Dan\",\"Emma\",\"Faith\",\"Grace\",\"Henry\"]\n",
    "nomi_1 = [(n[0] + \".\")  for n in nomi]\n",
    "print(\"La lista originale: \" + (\", \".join(nomi)) + \"\\nLa lista elaborata: \" + str(\" - \".join(nomi_1)))"
   ]
  },
  {
   "cell_type": "code",
   "execution_count": null,
   "metadata": {},
   "outputs": [],
   "source": [
    "# 5. Abbiamo una lista di codici fiscali. Creare una lista che contenga,  per ogni cf, solo i caratteri relativi al nome mediante comprehension\n",
    "lista_cf = [\"ABCDEF95G01A123B\", \"GHIJKL91MO2A321C\",\"MNOPOR89S03A456D\", \"STUVWX95Z04A654E\", \"XYZABCO1D05A789F\",\"DEFGHI95J06A987G\"]\n",
    "lista_nomi = [l[3:6] for l in lista_cf]\n",
    "print(\"La lista originale: \" + (\", \".join(lista_cf)) + \"\\nLa lista elaborata: \" + str(\" - \".join(lista_nomi)))"
   ]
  },
  {
   "cell_type": "code",
   "execution_count": null,
   "metadata": {},
   "outputs": [],
   "source": [
    "# 6. Abbiamo una lista di codici fiscali. Creare una lista che contenga,  per ogni cf, solo i caratteri relativi al nome ed una lista per i caratterie del cognome,mediante comprehension\n",
    "lista_cf = [\"ABCDEF95G01A123B\", \"GHIJKL91MO2A321C\",\"MNOPOR89S03A456D\", \"STUVWX95Z04A654E\", \"XYZABCO1D05A789F\",\"DEFGHI95J06A987G\"]\n",
    "lista_nomi = [l[3:6] for l in lista_cf]\n",
    "lista_cogn = [l[0:3] for l in lista_cf]\n",
    "print(\"La lista originale: \" + (\", \".join(lista_cf)) + \"\\nLa lista dei nomi: \" + str(\" - \".join(lista_nomi)) + \"\\nLa lista dei cognomi: \" + str(\" - \".join(lista_cogn)))"
   ]
  },
  {
   "cell_type": "code",
   "execution_count": null,
   "metadata": {},
   "outputs": [],
   "source": [
    "# 7. Abbiamo una lista di codici fiscali. Creare una lista che contenga solo i cf dei nati nel 95, tramite comprehension\n",
    "lista_cf = [\"ABCDEF95G01A123B\", \"GHIJKL91MO2A321C\",\"MNOPOR89S03A456D\", \"STUVWX95Z04A654E\", \"XYZABCO1D05A789F\",\"DEFGHI95J06A987G\"]\n",
    "nati_95 = [l for l in lista_cf if l.__contains__(\"95\")]\n",
    "print(\"La lista originale: \" + (\", \".join(lista_cf)) + \"\\nLa lista elaborata: \" + str(\" - \".join(nati_95)))\n"
   ]
  },
  {
   "cell_type": "code",
   "execution_count": null,
   "metadata": {},
   "outputs": [],
   "source": [
    "# 8. Abbiamo una lista di codici fiscali. Creare una lista che contenga solo gli ultimi 5 caratteri dei cf dei nati nel 95, tramite comprehension\n",
    "lista_cf = [\"ABCDEF95G01A123B\", \"GHIJKL91MO2A321C\",\"MNOPOR89S03A456D\", \"STUVWX95Z04A654E\", \"XYZABCO1D05A789F\",\"DEFGHI95J06A987G\"]\n",
    "nati_95 = [l[-5:] for l in lista_cf if l.__contains__(\"95\")]\n",
    "print(\"La lista originale: \" + (\", \".join(lista_cf)) + \"\\nLa lista elaborata: \" + str(\" - \".join(nati_95)))"
   ]
  },
  {
   "cell_type": "code",
   "execution_count": null,
   "metadata": {},
   "outputs": [],
   "source": [
    "# 9. Abbiamo una lista dei prezzi in dollari che, erroneamente, sono stati scritti con il simbolo dell'euro. Cambiare il simbolo dell'euro con quello del dollaro per ogni stringa nella lista usando la comprehession\n",
    "prezzi = [\"100 €\",\"200 €\",\"500 €\",\"10 €\",\"50 €\",\"70 €\"]\n",
    "print(\"La lista originale: \" + (\", \".join(prezzi)))\n",
    "prezzi = [l.replace(\"€\",\"$\") for l in prezzi]\n",
    "print(\"La lista elaborata: \" + str(\", \".join(prezzi)))"
   ]
  },
  {
   "cell_type": "code",
   "execution_count": null,
   "metadata": {},
   "outputs": [],
   "source": [
    "# 10. Abiamo una lista di studenti. Vogliamo dividere gli studenti in due squadre per un campionato di UNO nel seguente modo: la prima metà per una squadra e la seconda metà per l'altra.\n",
    "# Creiamo due liste per ogni squadra e alla fine visualizziamola\n",
    "studenti = [\"Alex\",\"Bob\",\"Cindy\",\"Dan\",\"Emma\",\"Faith\",\"Grace\",\"Henry\",\"Isabelle\",\"John\"]\n",
    "squadra_2 =[l for l in studenti[-5:]]\n",
    "squadra_1 = [l for l in studenti[0:5]]\n",
    "print(\"Le squadre sono così divise:\\n\" + \"\".join(str(squadra_1)) + \"\\n\" + \"\".join(str(squadra_2)))"
   ]
  },
  {
   "cell_type": "code",
   "execution_count": null,
   "metadata": {},
   "outputs": [],
   "source": [
    "# 11. Abiamo una lista di studenti. Vogliamo dividere gli studenti in due squadre per un campionato di UNO nel seguente modo: i nomi in posizione pari in una squadra, quelli dispari nell'altra.\n",
    "# Creiamo due liste per ogni squadra e alla fine visualizziamola\n",
    "studenti = [\"Alex\",\"Bob\",\"Cindy\",\"Dan\",\"Emma\",\"Faith\",\"Grace\",\"Henry\",\"Isabelle\",\"John\"]\n",
    "squadra_1 =[studenti[l] for l in range(0,len(studenti),2)]\n",
    "squadra_2 = [studenti[l] for l in range(1,len(studenti),2)]\n",
    "print(\"Le squadre sono così divise:\\n\" + \", \".join(squadra_1) + \"\\n\" + \", \".join(squadra_2))"
   ]
  },
  {
   "cell_type": "code",
   "execution_count": null,
   "metadata": {},
   "outputs": [],
   "source": [
    "# 12. Abbiamo una lista con i guadagni degli ultimi 12 mesi (Supponiamo da Gennaio a Dicembre). Dobbiamo confrontare, stampando tutto a video, il guadagno di ogni mese con la media dei guadagni precedenti.\n",
    "guadagni = [100,90,70,40,50,80,90,120,80,20,50,50]\n",
    "print(\"Mese 1:\", str(guadagni[0]))\n",
    "print(\"\".join([\"Mese \" + str(pos+1) +\": \" + str(guadagni[pos]) + \" (media prec: \" + str(sum(guadagni[:pos])//(pos)) + \")\\n\" for pos in range(1,len(guadagni))])) "
   ]
  },
  {
   "cell_type": "code",
   "execution_count": null,
   "metadata": {},
   "outputs": [],
   "source": [
    "# 13. Abbiamo una lista con i guadagni degli ultimi 12 mesi (Supponiamo da Gennaio a Dicembre). Dobbiamo confrontare, stampando tutto a video, il guadagno di ogni mese con la media dei guadagni precedenti,\n",
    "# specificando se è maggiore o minore\n",
    "guadagni = [100,90,70,40,50,80,90,120,80,20,50,50]\n",
    "print(\"Mese 1:\", str(guadagni[0]))\n",
    "print(\"\".join([\"Mese \" + str(pos+1) +\": \" + str(guadagni[pos]) + \", media prec: \" + str(sum(guadagni[:pos])//(pos)) + \" - siamo sopra la media\\n\"\n",
    "                if (sum(guadagni[:pos])//(pos))>guadagni[pos] \n",
    "                else \"Mese \" + str(pos+1) +\": \" + str(guadagni[pos]) + \", media prec: \" + str(sum(guadagni[:pos])//(pos)) + \" - siamo sotto la media\\n\" \n",
    "                for pos in range(1,len(guadagni))]))"
   ]
  },
  {
   "cell_type": "code",
   "execution_count": null,
   "metadata": {},
   "outputs": [],
   "source": [
    "# 14-15. Scrivere una funzione che, data una lista di numeri, fornisca in output il maggiore di tutti, senza utilizzare la funzione max\n",
    "val = input(\"Inserire la lista di numeri da esaminare separati da una virgola:\\n\")\n",
    "val = val.split(\",\")\n",
    "def Calcolo_Max(val):\n",
    "    max = 0\n",
    "    for el in val:\n",
    "        if int(el) > int(max) : max = el\n",
    "    return int(max)\n",
    "def Calcolo_Min(val):\n",
    "    min = Calcolo_Max(val)\n",
    "    for el in val:\n",
    "        if int(el) < int(min) : min = el\n",
    "    return int(min)\n",
    "print(\"Il valore massimo è : \" + str(Calcolo_Max(val)) , \"\\nIl valore minimo è : \", str(Calcolo_Min(val)))"
   ]
  },
  {
   "cell_type": "code",
   "execution_count": null,
   "metadata": {},
   "outputs": [],
   "source": [
    "#16. Scrivere una funzione che, data una lista di numeri, fornisca in output i due numeri più grandi\n",
    "num = input(\"Inserire la lista di numeri da esaminare separati da una virgola:\\n\")\n",
    "num = num.split(\",\")\n",
    "def Calcolo_Max(var):\n",
    "    max = 0\n",
    "    for el in var:\n",
    "        if int(el) > int(max) : max = el\n",
    "    return int(max)\n",
    "def Due_maggiori(vas):\n",
    "    max = []\n",
    "    max.append(Calcolo_Max(vas))\n",
    "    vas.remove(str(max[0]))\n",
    "    max.append(Calcolo_Max(vas))\n",
    "    return max\n",
    "print(\"I due numeri maggiorni sono: \" + str(Due_maggiori(num)))"
   ]
  },
  {
   "cell_type": "code",
   "execution_count": null,
   "metadata": {},
   "outputs": [],
   "source": [
    "# 17. Scrivere una funzione che in input acquisisce una lista di numeri e un numero K; in output dovrà restituire la media di tutti i numeri nella lista maggiori o uguali a K;\n",
    "# se non ce ne dovesse essere nessuno, dovrà stampare a schermo un messaggio adeguato\n",
    "num = input(\"Inserire la lista di numeri da esaminare separati da una virgola:\\n\")\n",
    "num = num.split(\",\")\n",
    "K = input(\"Inserire il valore di K:\\n\")\n",
    "def controllo_K(lista,fattore):\n",
    "    over = [int(el) for el in lista if el>= fattore]\n",
    "    if len(over)>0:\n",
    "        out = \"La media dei numeri superiori a K è: \" + str(sum(over)/len(over))\n",
    "    else:out = \"La lista inserita non contiene numeri che soddisfano i requisiti\"\n",
    "    return out\n",
    "print(str(controllo_K(num,K)))"
   ]
  },
  {
   "cell_type": "code",
   "execution_count": null,
   "metadata": {},
   "outputs": [],
   "source": [
    "# 18. Scrivere una funzione che, data una lista di numeri, come output stamperà lo stesso numero di asterischi su righe diverse, ottenendo una semplice visualizzazione grafica.\n",
    "num_list = input(\"Inserire la lista di numeri da esaminare separati da una virgola:\\n\")\n",
    "num_list=num_list.split(\",\")\n",
    "def disegna_asterichi(x):\n",
    "    for el in x:\n",
    "        print (\"*\" * int(el))\n",
    "disegna_asterichi(num_list)"
   ]
  },
  {
   "cell_type": "code",
   "execution_count": null,
   "metadata": {},
   "outputs": [],
   "source": [
    "# 19. Abbiamo un testo ad esempio. Creiamo una funzione che prenda il testo in input e in output ci dia un dizionario che contiene ogni tipo di carattere e quante volte appare.\n",
    "racconto = \"\"\"Lisetta va a passeggio in campagna; è felice di raccogliere i fiori che crescono sulle rive, ai bordi della strada. Ha già un bel mazzetto di ranuncoli e margherite.\"\"\"\n",
    "def coun_char(testo):\n",
    "    D_O = {}\n",
    "    for el in testo:\n",
    "        if el not in D_O.keys():D_O.update({el:1})\n",
    "        elif el in D_O.keys():D_O[el] += 1 \n",
    "    return D_O\n",
    "print(\"Il risultato dell'elaborazione è:\\n\" + str(coun_char(racconto)))"
   ]
  },
  {
   "cell_type": "code",
   "execution_count": null,
   "metadata": {},
   "outputs": [],
   "source": [
    "# 20. Abbiamo un testo ad esempio. Creiamo una funzione che prenda il testo in input e in output ci dia un dizionario che contiene ogni tipo di carattere e quante volte appare esclusi punteggiatura e spazi\n",
    "racconto = \"\"\"Lisetta va a passeggio in campagna; è felice di raccogliere i fiori che crescono sulle rive, ai bordi della strada. Ha già un bel mazzetto di ranuncoli e margherite.\"\"\"\n",
    "def coun_char_alpha(testo):\n",
    "    D_O = {}\n",
    "    for el in testo:\n",
    "        if str(el).isalpha():\n",
    "            if el not in D_O.keys():D_O.update({el:1})\n",
    "            elif el in D_O.keys():D_O[el] += 1 \n",
    "    return D_O\n",
    "print(\"Il risultato dell'elaborazione è:\\n\" + str(coun_char_alpha(racconto)))"
   ]
  },
  {
   "cell_type": "code",
   "execution_count": null,
   "metadata": {},
   "outputs": [],
   "source": [
    "# 21. Abbiamo un testo ad esempio. Creiamo una funzione che prenda il testo in input e in output ci dia un dizionario che contiene ogni tipo di carattere e quante volte appare senza fare differenza fra maiuscole e minuscole\n",
    "racconto = \"\"\"Lisetta va a passeggio in campagna; è felice di raccogliere i fiori che crescono sulle rive, ai bordi della strada. Ha già un bel mazzetto di ranuncoli e margherite.\"\"\"\n",
    "def coun_char_all(testo):\n",
    "    D_O = {}\n",
    "    for el in testo:\n",
    "        el = str(el.upper())\n",
    "        if el not in D_O.keys():D_O.update({el:1})\n",
    "        elif el in D_O.keys():D_O[el] += 1 \n",
    "    return D_O\n",
    "print(\"Il risultato dell'elaborazione è:\\n\" + str(coun_char_all(racconto)))"
   ]
  },
  {
   "cell_type": "code",
   "execution_count": 266,
   "metadata": {},
   "outputs": [
    {
     "name": "stdout",
     "output_type": "stream",
     "text": [
      "Nel file sono ci sono 2635 righe.\n",
      "\n",
      "I metadati sono:\n",
      "- Comune\n",
      "- Provincia\n",
      "- Regione\n",
      "- Nome\n",
      "- Anno inserimento\n",
      "- Data e ora inserimento\n",
      "- Identificatore in OpenStreetMap\n",
      "- Longitudine\n",
      "- Latitudine\n"
     ]
    }
   ],
   "source": [
    "# 22. Andiamo sul sito e scarichiamo la mappa dei pub, circoli e locali in Italia.\n",
    "import pandas as pd\n",
    "mappa = pd.read_csv('Mappa-dei-pub-circoli-locali-in-Italia.csv',sep=\";\")\n",
    "#Esaminiamo il dataset:\n",
    "#Quanti dati ci sono in totale?\n",
    "print(\"Nel file sono ci sono \" + str(mappa.__len__()) + \" righe.\")\n",
    "#Quali sono i metadati?\n",
    "print(\"\\nI metadati sono:\")\n",
    "for el in mappa.columns.values:\n",
    "    print(\"- \" + el)"
   ]
  },
  {
   "cell_type": "code",
   "execution_count": 267,
   "metadata": {},
   "outputs": [
    {
     "data": {
      "text/html": [
       "<div>\n",
       "<style scoped>\n",
       "    .dataframe tbody tr th:only-of-type {\n",
       "        vertical-align: middle;\n",
       "    }\n",
       "\n",
       "    .dataframe tbody tr th {\n",
       "        vertical-align: top;\n",
       "    }\n",
       "\n",
       "    .dataframe thead th {\n",
       "        text-align: right;\n",
       "    }\n",
       "</style>\n",
       "<table border=\"1\" class=\"dataframe\">\n",
       "  <thead>\n",
       "    <tr style=\"text-align: right;\">\n",
       "      <th></th>\n",
       "      <th>Comune</th>\n",
       "      <th>Provincia</th>\n",
       "      <th>Regione</th>\n",
       "      <th>Nome</th>\n",
       "      <th>Anno inserimento</th>\n",
       "      <th>Data e ora inserimento</th>\n",
       "      <th>Identificatore in OpenStreetMap</th>\n",
       "      <th>Longitudine</th>\n",
       "      <th>Latitudine</th>\n",
       "    </tr>\n",
       "  </thead>\n",
       "  <tbody>\n",
       "    <tr>\n",
       "      <th>0</th>\n",
       "      <td>ALTRO</td>\n",
       "      <td>ALTRO</td>\n",
       "      <td>ALTRO</td>\n",
       "      <td>NaN</td>\n",
       "      <td>2011</td>\n",
       "      <td>2011-06-25T23:17:43Z</td>\n",
       "      <td>1339088150</td>\n",
       "      <td>13.733257</td>\n",
       "      <td>45.57583</td>\n",
       "    </tr>\n",
       "  </tbody>\n",
       "</table>\n",
       "</div>"
      ],
      "text/plain": [
       "  Comune Provincia Regione Nome  Anno inserimento Data e ora inserimento  \\\n",
       "0  ALTRO     ALTRO   ALTRO  NaN              2011   2011-06-25T23:17:43Z   \n",
       "\n",
       "   Identificatore in OpenStreetMap  Longitudine  Latitudine  \n",
       "0                       1339088150    13.733257    45.57583  "
      ]
     },
     "execution_count": 267,
     "metadata": {},
     "output_type": "execute_result"
    }
   ],
   "source": [
    "#stampiamo il primo elemento\n",
    "mappa[:1]"
   ]
  },
  {
   "cell_type": "code",
   "execution_count": 268,
   "metadata": {},
   "outputs": [
    {
     "data": {
      "text/html": [
       "<div>\n",
       "<style scoped>\n",
       "    .dataframe tbody tr th:only-of-type {\n",
       "        vertical-align: middle;\n",
       "    }\n",
       "\n",
       "    .dataframe tbody tr th {\n",
       "        vertical-align: top;\n",
       "    }\n",
       "\n",
       "    .dataframe thead th {\n",
       "        text-align: right;\n",
       "    }\n",
       "</style>\n",
       "<table border=\"1\" class=\"dataframe\">\n",
       "  <thead>\n",
       "    <tr style=\"text-align: right;\">\n",
       "      <th></th>\n",
       "      <th>Comune</th>\n",
       "      <th>Provincia</th>\n",
       "      <th>Regione</th>\n",
       "      <th>Nome</th>\n",
       "      <th>Anno inserimento</th>\n",
       "      <th>Data e ora inserimento</th>\n",
       "      <th>Identificatore in OpenStreetMap</th>\n",
       "      <th>Longitudine</th>\n",
       "      <th>Latitudine</th>\n",
       "    </tr>\n",
       "  </thead>\n",
       "  <tbody>\n",
       "    <tr>\n",
       "      <th>2634</th>\n",
       "      <td>TRANI</td>\n",
       "      <td>BARLETTA-ANDRIA-TRANI</td>\n",
       "      <td>Puglia</td>\n",
       "      <td>Well's Fargo</td>\n",
       "      <td>2009</td>\n",
       "      <td>2009-08-10T12:44:03Z</td>\n",
       "      <td>387223648</td>\n",
       "      <td>16.436765</td>\n",
       "      <td>41.267264</td>\n",
       "    </tr>\n",
       "  </tbody>\n",
       "</table>\n",
       "</div>"
      ],
      "text/plain": [
       "     Comune              Provincia Regione          Nome  Anno inserimento  \\\n",
       "2634  TRANI  BARLETTA-ANDRIA-TRANI  Puglia  Well's Fargo              2009   \n",
       "\n",
       "     Data e ora inserimento  Identificatore in OpenStreetMap  Longitudine  \\\n",
       "2634   2009-08-10T12:44:03Z                        387223648    16.436765   \n",
       "\n",
       "      Latitudine  \n",
       "2634   41.267264  "
      ]
     },
     "execution_count": 268,
     "metadata": {},
     "output_type": "execute_result"
    }
   ],
   "source": [
    "#stampiamo l'ultimo elemento\n",
    "mappa[-1:]"
   ]
  },
  {
   "cell_type": "code",
   "execution_count": 269,
   "metadata": {},
   "outputs": [
    {
     "data": {
      "text/html": [
       "<div>\n",
       "<style scoped>\n",
       "    .dataframe tbody tr th:only-of-type {\n",
       "        vertical-align: middle;\n",
       "    }\n",
       "\n",
       "    .dataframe tbody tr th {\n",
       "        vertical-align: top;\n",
       "    }\n",
       "\n",
       "    .dataframe thead th {\n",
       "        text-align: right;\n",
       "    }\n",
       "</style>\n",
       "<table border=\"1\" class=\"dataframe\">\n",
       "  <thead>\n",
       "    <tr style=\"text-align: right;\">\n",
       "      <th></th>\n",
       "      <th>Comune</th>\n",
       "      <th>Provincia</th>\n",
       "      <th>Regione</th>\n",
       "      <th>Nome</th>\n",
       "      <th>Anno inserimento</th>\n",
       "      <th>Data e ora inserimento</th>\n",
       "      <th>Identificatore in OpenStreetMap</th>\n",
       "      <th>Longitudine</th>\n",
       "      <th>Latitudine</th>\n",
       "    </tr>\n",
       "  </thead>\n",
       "  <tbody>\n",
       "    <tr>\n",
       "      <th>921</th>\n",
       "      <td>LAZISE</td>\n",
       "      <td>VERONA</td>\n",
       "      <td>Veneto</td>\n",
       "      <td>Cort�S</td>\n",
       "      <td>2012</td>\n",
       "      <td>2012-06-01T22:04:42Z</td>\n",
       "      <td>1552308391</td>\n",
       "      <td>10.733473</td>\n",
       "      <td>45.505983</td>\n",
       "    </tr>\n",
       "  </tbody>\n",
       "</table>\n",
       "</div>"
      ],
      "text/plain": [
       "     Comune Provincia Regione    Nome  Anno inserimento  \\\n",
       "921  LAZISE    VERONA  Veneto  Cort�S              2012   \n",
       "\n",
       "    Data e ora inserimento  Identificatore in OpenStreetMap  Longitudine  \\\n",
       "921   2012-06-01T22:04:42Z                       1552308391    10.733473   \n",
       "\n",
       "     Latitudine  \n",
       "921   45.505983  "
      ]
     },
     "execution_count": 269,
     "metadata": {},
     "output_type": "execute_result"
    }
   ],
   "source": [
    "#riusciamo a stampare un elemento a caso?\n",
    "import random \n",
    "x = random.randint(0,mappa.__len__()-1)\n",
    "mappa[x:x+1]"
   ]
  },
  {
   "cell_type": "code",
   "execution_count": 271,
   "metadata": {},
   "outputs": [
    {
     "name": "stdout",
     "output_type": "stream",
     "text": [
      "[2007, 2008, 2009, 2010, 2011, 2012, 2013, 2014, 2015, 2016]\n"
     ]
    }
   ],
   "source": [
    "#quali sono gli anni di inserimento presenti?\n",
    "anni = []\n",
    "for el in mappa[\"Anno inserimento\"]:\n",
    "    if el not in anni: \n",
    "        anni.append(el)\n",
    "anni.sort()\n",
    "print((str(anni))) "
   ]
  },
  {
   "cell_type": "code",
   "execution_count": 272,
   "metadata": {},
   "outputs": [
    {
     "data": {
      "text/html": [
       "<div>\n",
       "<style scoped>\n",
       "    .dataframe tbody tr th:only-of-type {\n",
       "        vertical-align: middle;\n",
       "    }\n",
       "\n",
       "    .dataframe tbody tr th {\n",
       "        vertical-align: top;\n",
       "    }\n",
       "\n",
       "    .dataframe thead th {\n",
       "        text-align: right;\n",
       "    }\n",
       "</style>\n",
       "<table border=\"1\" class=\"dataframe\">\n",
       "  <thead>\n",
       "    <tr style=\"text-align: right;\">\n",
       "      <th></th>\n",
       "      <th>Comune</th>\n",
       "      <th>Provincia</th>\n",
       "      <th>Regione</th>\n",
       "      <th>Nome</th>\n",
       "      <th>Anno inserimento</th>\n",
       "      <th>Data e ora inserimento</th>\n",
       "      <th>Identificatore in OpenStreetMap</th>\n",
       "      <th>Longitudine</th>\n",
       "      <th>Latitudine</th>\n",
       "    </tr>\n",
       "  </thead>\n",
       "  <tbody>\n",
       "    <tr>\n",
       "      <th>2</th>\n",
       "      <td>ALTRO</td>\n",
       "      <td>ALTRO</td>\n",
       "      <td>ALTRO</td>\n",
       "      <td>Murrayfield Pub</td>\n",
       "      <td>2015</td>\n",
       "      <td>2015-10-24T09:28:06Z</td>\n",
       "      <td>3323888102</td>\n",
       "      <td>9.029585</td>\n",
       "      <td>45.831340</td>\n",
       "    </tr>\n",
       "    <tr>\n",
       "      <th>342</th>\n",
       "      <td>ORIGGIO</td>\n",
       "      <td>VARESE</td>\n",
       "      <td>Lombardia</td>\n",
       "      <td>NaN</td>\n",
       "      <td>2010</td>\n",
       "      <td>2010-03-04T10:01:20Z</td>\n",
       "      <td>660121664</td>\n",
       "      <td>9.014469</td>\n",
       "      <td>45.585286</td>\n",
       "    </tr>\n",
       "    <tr>\n",
       "      <th>343</th>\n",
       "      <td>ORIGGIO</td>\n",
       "      <td>VARESE</td>\n",
       "      <td>Lombardia</td>\n",
       "      <td>Buenavista</td>\n",
       "      <td>2012</td>\n",
       "      <td>2012-10-29T14:18:54Z</td>\n",
       "      <td>1654210859</td>\n",
       "      <td>9.021546</td>\n",
       "      <td>45.608240</td>\n",
       "    </tr>\n",
       "    <tr>\n",
       "      <th>346</th>\n",
       "      <td>SARONNO</td>\n",
       "      <td>VARESE</td>\n",
       "      <td>Lombardia</td>\n",
       "      <td>NaN</td>\n",
       "      <td>2012</td>\n",
       "      <td>2012-09-09T16:32:21Z</td>\n",
       "      <td>1907124869</td>\n",
       "      <td>9.031357</td>\n",
       "      <td>45.629008</td>\n",
       "    </tr>\n",
       "    <tr>\n",
       "      <th>347</th>\n",
       "      <td>SARONNO</td>\n",
       "      <td>VARESE</td>\n",
       "      <td>Lombardia</td>\n",
       "      <td>Bray Hill</td>\n",
       "      <td>2014</td>\n",
       "      <td>2014-11-25T17:32:40Z</td>\n",
       "      <td>1907140529</td>\n",
       "      <td>9.030316</td>\n",
       "      <td>45.628685</td>\n",
       "    </tr>\n",
       "    <tr>\n",
       "      <th>...</th>\n",
       "      <td>...</td>\n",
       "      <td>...</td>\n",
       "      <td>...</td>\n",
       "      <td>...</td>\n",
       "      <td>...</td>\n",
       "      <td>...</td>\n",
       "      <td>...</td>\n",
       "      <td>...</td>\n",
       "      <td>...</td>\n",
       "    </tr>\n",
       "    <tr>\n",
       "      <th>2607</th>\n",
       "      <td>SEREGNO</td>\n",
       "      <td>MONZA-BRIANZA</td>\n",
       "      <td>Lombardia</td>\n",
       "      <td>Pane e trita</td>\n",
       "      <td>2015</td>\n",
       "      <td>2015-04-11T13:16:22Z</td>\n",
       "      <td>3450504976</td>\n",
       "      <td>9.216413</td>\n",
       "      <td>45.650058</td>\n",
       "    </tr>\n",
       "    <tr>\n",
       "      <th>2608</th>\n",
       "      <td>SEREGNO</td>\n",
       "      <td>MONZA-BRIANZA</td>\n",
       "      <td>Lombardia</td>\n",
       "      <td>The Quiet Man</td>\n",
       "      <td>2014</td>\n",
       "      <td>2014-08-29T07:53:44Z</td>\n",
       "      <td>3048521612</td>\n",
       "      <td>9.210487</td>\n",
       "      <td>45.648891</td>\n",
       "    </tr>\n",
       "    <tr>\n",
       "      <th>2609</th>\n",
       "      <td>VEDANO AL LAMBRO</td>\n",
       "      <td>MONZA-BRIANZA</td>\n",
       "      <td>Lombardia</td>\n",
       "      <td>Bambu Pizza Pub</td>\n",
       "      <td>2014</td>\n",
       "      <td>2014-10-11T18:04:39Z</td>\n",
       "      <td>3124304239</td>\n",
       "      <td>9.272623</td>\n",
       "      <td>45.614027</td>\n",
       "    </tr>\n",
       "    <tr>\n",
       "      <th>2610</th>\n",
       "      <td>VERANO BRIANZA</td>\n",
       "      <td>MONZA-BRIANZA</td>\n",
       "      <td>Lombardia</td>\n",
       "      <td>NaN</td>\n",
       "      <td>2010</td>\n",
       "      <td>2010-01-30T10:13:31Z</td>\n",
       "      <td>622994942</td>\n",
       "      <td>9.227324</td>\n",
       "      <td>45.681202</td>\n",
       "    </tr>\n",
       "    <tr>\n",
       "      <th>2611</th>\n",
       "      <td>LENTATE SUL SEVESO</td>\n",
       "      <td>MONZA-BRIANZA</td>\n",
       "      <td>Lombardia</td>\n",
       "      <td>St. James' Gate</td>\n",
       "      <td>2016</td>\n",
       "      <td>2016-02-06T15:14:32Z</td>\n",
       "      <td>2245443209</td>\n",
       "      <td>9.117388</td>\n",
       "      <td>45.677211</td>\n",
       "    </tr>\n",
       "  </tbody>\n",
       "</table>\n",
       "<p>306 rows × 9 columns</p>\n",
       "</div>"
      ],
      "text/plain": [
       "                  Comune      Provincia    Regione             Nome  \\\n",
       "2                  ALTRO          ALTRO      ALTRO  Murrayfield Pub   \n",
       "342              ORIGGIO         VARESE  Lombardia              NaN   \n",
       "343              ORIGGIO         VARESE  Lombardia       Buenavista   \n",
       "346              SARONNO         VARESE  Lombardia              NaN   \n",
       "347              SARONNO         VARESE  Lombardia        Bray Hill   \n",
       "...                  ...            ...        ...              ...   \n",
       "2607             SEREGNO  MONZA-BRIANZA  Lombardia     Pane e trita   \n",
       "2608             SEREGNO  MONZA-BRIANZA  Lombardia    The Quiet Man   \n",
       "2609    VEDANO AL LAMBRO  MONZA-BRIANZA  Lombardia  Bambu Pizza Pub   \n",
       "2610      VERANO BRIANZA  MONZA-BRIANZA  Lombardia              NaN   \n",
       "2611  LENTATE SUL SEVESO  MONZA-BRIANZA  Lombardia  St. James' Gate   \n",
       "\n",
       "      Anno inserimento Data e ora inserimento  \\\n",
       "2                 2015   2015-10-24T09:28:06Z   \n",
       "342               2010   2010-03-04T10:01:20Z   \n",
       "343               2012   2012-10-29T14:18:54Z   \n",
       "346               2012   2012-09-09T16:32:21Z   \n",
       "347               2014   2014-11-25T17:32:40Z   \n",
       "...                ...                    ...   \n",
       "2607              2015   2015-04-11T13:16:22Z   \n",
       "2608              2014   2014-08-29T07:53:44Z   \n",
       "2609              2014   2014-10-11T18:04:39Z   \n",
       "2610              2010   2010-01-30T10:13:31Z   \n",
       "2611              2016   2016-02-06T15:14:32Z   \n",
       "\n",
       "      Identificatore in OpenStreetMap  Longitudine  Latitudine  \n",
       "2                          3323888102     9.029585   45.831340  \n",
       "342                         660121664     9.014469   45.585286  \n",
       "343                        1654210859     9.021546   45.608240  \n",
       "346                        1907124869     9.031357   45.629008  \n",
       "347                        1907140529     9.030316   45.628685  \n",
       "...                               ...          ...         ...  \n",
       "2607                       3450504976     9.216413   45.650058  \n",
       "2608                       3048521612     9.210487   45.648891  \n",
       "2609                       3124304239     9.272623   45.614027  \n",
       "2610                        622994942     9.227324   45.681202  \n",
       "2611                       2245443209     9.117388   45.677211  \n",
       "\n",
       "[306 rows x 9 columns]"
      ]
     },
     "execution_count": 272,
     "metadata": {},
     "output_type": "execute_result"
    }
   ],
   "source": [
    "#quante attività ci sono nel quadrato di longitudine 9-10 e latitudine 45-46?\n",
    "Long = mappa[\"Longitudine\"].between(9,10)\n",
    "Lat = mappa[\"Latitudine\"].between(45,46) \n",
    "mappa[Long & Lat]"
   ]
  },
  {
   "cell_type": "code",
   "execution_count": 273,
   "metadata": {},
   "outputs": [
    {
     "name": "stdout",
     "output_type": "stream",
     "text": [
      "Nella provincia di Vicenza sono presenti 73 attività.\n"
     ]
    }
   ],
   "source": [
    "#quante attività ci sono nella provincia di Vicenza?\n",
    "Vicenza = mappa[\"Provincia\"] == \"VICENZA\"\n",
    "print(\"Nella provincia di Vicenza sono presenti \" + str(mappa[Vicenza].__len__()) + \" attività.\")\n"
   ]
  },
  {
   "cell_type": "code",
   "execution_count": 278,
   "metadata": {},
   "outputs": [
    {
     "name": "stdout",
     "output_type": "stream",
     "text": [
      "Enoteca con Cucina\"\"Tirolin\"\"\n",
      "Concordia Enoteca\n",
      "Enoteca Umberto\n",
      "Enoteca \"\"Al Brindisi\"\"\n",
      "Enoteca \"\"da Massimo\"\"\n",
      "Enoteca Il Violino Rosso\n",
      "Per un totale di 6 enoteche.\n"
     ]
    }
   ],
   "source": [
    "#quante enoteche ci sono, e come si chiamano?\n",
    "x=0\n",
    "for el in mappa[\"Nome\"]:\n",
    "    if \"ENOTECA\" in str(el).upper():\n",
    "        print(el)\n",
    "        x += 1\n",
    "print(\"Per un totale di \" + str(x) + \" enoteche.\")"
   ]
  },
  {
   "cell_type": "code",
   "execution_count": 284,
   "metadata": {},
   "outputs": [
    {
     "name": "stdout",
     "output_type": "stream",
     "text": [
      "Nella regioni Lazio e Abruzzo sono presenti 337 attività.\n"
     ]
    }
   ],
   "source": [
    "#quante attività ci sono in Lazio e Abruzzo assieme?\n",
    "Lazio = mappa[\"Regione\"] == \"Lazio\"\n",
    "Abruzzo = mappa[\"Regione\"] == \"Abruzzo\"\n",
    "print(\"Nella regioni Lazio e Abruzzo sono presenti \" + str(mappa[Lazio + Abruzzo].__len__()) + \" attività.\")"
   ]
  }
 ],
 "metadata": {
  "kernelspec": {
   "display_name": "Python 3",
   "language": "python",
   "name": "python3"
  },
  "language_info": {
   "codemirror_mode": {
    "name": "ipython",
    "version": 3
   },
   "file_extension": ".py",
   "mimetype": "text/x-python",
   "name": "python",
   "nbconvert_exporter": "python",
   "pygments_lexer": "ipython3",
   "version": "3.11.4"
  },
  "orig_nbformat": 4
 },
 "nbformat": 4,
 "nbformat_minor": 2
}
